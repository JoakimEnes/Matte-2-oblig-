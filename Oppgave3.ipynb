{
 "cells": [
  {
   "cell_type": "markdown",
   "metadata": {},
   "source": [
    "Oppgave 3 enda mer presis derivert  "
   ]
  },
  {
   "cell_type": "code",
   "execution_count": 3,
   "metadata": {},
   "outputs": [
    {
     "name": "stdout",
     "output_type": "stream",
     "text": [
      " indeks 1 : 4.4816741136     h = 0.1     feil = 1.4956758427331351e-05\n",
      " indeks 2 : 4.4816890688     h = 0.01     feil = 1.4938787984419832e-09\n",
      " indeks 3 : 4.4816890703     h = 0.001     feil = 3.552713678800501e-13\n",
      " indeks 4 : 4.4816890703     h = 0.0001     feil = 3.8458125573015423e-13\n",
      " indeks 5 : 4.4816890704     h = 1e-05     feil = 5.219469301209756e-11\n",
      " indeks 6 : 4.4816890700     h = 1e-06     feil = 3.326814379533971e-10\n",
      " indeks 7 : 4.4816890739     h = 1e-07     feil = 3.590106878448296e-09\n",
      " indeks 8 : 4.4816889977     h = 1e-08     feil = 7.264520895944315e-08\n",
      " indeks 9 : 4.4816893900     h = 1e-09     feil = 3.196335933708383e-07\n",
      " indeks 10 : 4.4816920545     h = 1e-10     feil = 2.9841688533593924e-06\n",
      " indeks 11 : 4.4817186999     h = 1e-11     feil = 2.962952144436315e-05\n",
      " indeks 12 : 4.4825624694     h = 1e-12     feil = 0.0008733990201585939\n",
      " indeks 13 : 4.4801199787     h = 1e-13     feil = 0.0015690916340167504\n",
      " indeks 14 : 4.4853010195     h = 1e-14     feil = 0.0036119491475679055\n",
      " indeks 15 : 5.1070259133     h = 1e-15     feil = 0.6253368429376556\n",
      " indeks 16 : -1.4802973662     h = 1e-16     feil = 5.96198643650494\n",
      " indeks 17 : -7.4014868308     h = 1e-17     feil = 11.883175901172441\n",
      " indeks 18 : -74.0148683083     h = 1e-18     feil = 78.49655737868183\n",
      " indeks 19 : -740.1486830834     h = 1e-19     feil = 744.6303721537759\n"
     ]
    }
   ],
   "source": [
    "import numpy as np\n",
    "\n",
    "x = 1.5\n",
    "eksakt_derivert = np.exp(1.5)\n",
    "def f(parameter):\n",
    "    return np.exp(parameter)\n",
    "\n",
    "def derivert(f, inp):\n",
    "    h = 1/10**inp\n",
    "    return (f(x - 2*h) - 8*f(x-h) +8*f(x+h) - f(x + 2 * h))/(12 * h)\n",
    "\n",
    "for i in range(1, 20):\n",
    "    print(f\" indeks {i} : {derivert(f, i):.10f}     h = {1/10**i}     feil = {abs(derivert(f, i) - eksakt_derivert)}\") \n"
   ]
  }
 ],
 "metadata": {
  "kernelspec": {
   "display_name": "base",
   "language": "python",
   "name": "python3"
  },
  "language_info": {
   "codemirror_mode": {
    "name": "ipython",
    "version": 3
   },
   "file_extension": ".py",
   "mimetype": "text/x-python",
   "name": "python",
   "nbconvert_exporter": "python",
   "pygments_lexer": "ipython3",
   "version": "3.12.4"
  }
 },
 "nbformat": 4,
 "nbformat_minor": 2
}
