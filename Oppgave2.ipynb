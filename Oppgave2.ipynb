{
 "cells": [
  {
   "cell_type": "markdown",
   "metadata": {},
   "source": [
    "Oppgave 2 - oblig"
   ]
  },
  {
   "cell_type": "code",
   "execution_count": 22,
   "metadata": {},
   "outputs": [
    {
     "name": "stdout",
     "output_type": "stream",
     "text": [
      " indeks 1 : 4.4891622878     h = 0.1     feil = 0.007473217414137423\n",
      " indeks 2 : 4.4817637655     h = 0.01     feil = 7.469519133618263e-05\n",
      " indeks 3 : 4.4816898173     h = 0.001     feil = 7.469480740596168e-07\n",
      " indeks 4 : 4.4816890778     h = 0.0001     feil = 7.468485385686563e-09\n",
      " indeks 5 : 4.4816890704     h = 1e-05     feil = 9.660450217552352e-11\n",
      " indeks 6 : 4.4816890701     h = 1e-06     feil = 2.5866686570452657e-10\n",
      " indeks 7 : 4.4816890732     h = 1e-07     feil = 2.8499576032459117e-09\n",
      " indeks 8 : 4.4816890199     h = 1e-08     feil = 5.04407475787616e-08\n",
      " indeks 9 : 4.4816892419     h = 1e-09     feil = 1.716038573462697e-07\n",
      " indeks 10 : 4.4816905742     h = 1e-10     feil = 1.5038714868964576e-06\n",
      " indeks 11 : 4.4817038969     h = 1e-11     feil = 1.4826547782398336e-05\n",
      " indeks 12 : 4.4821923950     h = 1e-12     feil = 0.0005033246786174672\n",
      " indeks 13 : 4.4808601274     h = 1e-13     feil = 0.0008289429509327206\n",
      " indeks 14 : 4.4853010195     h = 1e-14     feil = 0.0036119491475679055\n",
      " indeks 15 : 4.8849813084     h = 1e-15     feil = 0.40329223801262426\n",
      " indeks 16 : 0.0000000000     h = 1e-16     feil = 4.4816890703380645\n",
      " indeks 17 : 0.0000000000     h = 1e-17     feil = 4.4816890703380645\n",
      " indeks 18 : 0.0000000000     h = 1e-18     feil = 4.4816890703380645\n",
      " indeks 19 : 0.0000000000     h = 1e-19     feil = 4.4816890703380645\n"
     ]
    }
   ],
   "source": [
    "import numpy as np\n",
    "\n",
    "x = 1.5\n",
    "eksakt_derivert = np.exp(1.5)\n",
    "def funksjon(parameter):\n",
    "    return np.exp(parameter)\n",
    "\n",
    "def derivert(funksjon, h):\n",
    "    return (funksjon(x+(1/10**h))-funksjon(x - 1/10**h))/(2 * (1/10**h))\n",
    "\n",
    "for i in range(1, 20):\n",
    "    print(f\" indeks {i} : {derivert(funksjon, i):.10f}     h = {1/10**i}     feil = {abs(derivert(funksjon, i) - eksakt_derivert)}\") \n"
   ]
  }
 ],
 "metadata": {
  "kernelspec": {
   "display_name": "base",
   "language": "python",
   "name": "python3"
  },
  "language_info": {
   "codemirror_mode": {
    "name": "ipython",
    "version": 3
   },
   "file_extension": ".py",
   "mimetype": "text/x-python",
   "name": "python",
   "nbconvert_exporter": "python",
   "pygments_lexer": "ipython3",
   "version": "3.12.4"
  }
 },
 "nbformat": 4,
 "nbformat_minor": 2
}
