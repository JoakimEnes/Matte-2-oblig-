{
 "cells": [
  {
   "cell_type": "markdown",
   "metadata": {},
   "source": [
    "Oppgave 1 - når feiler derivasjons operatoren for for liten h verdi"
   ]
  },
  {
   "cell_type": "code",
   "execution_count": 26,
   "metadata": {},
   "outputs": [
    {
     "name": "stdout",
     "output_type": "stream",
     "text": [
      " indeks 1 : 4.713433540570504\n",
      " indeks 2 : 4.5041723976187775\n",
      " indeks 3 : 4.483930662008362\n",
      " indeks 4 : 4.481913162264206\n",
      " indeks 5 : 4.4817114789097445\n",
      " indeks 6 : 4.48169131139764\n",
      " indeks 7 : 4.481689304114411\n",
      " indeks 8 : 4.481689064306238\n",
      " indeks 9 : 4.481689686031132\n",
      " indeks 10 : 4.48169501510165\n",
      " indeks 11 : 4.481748305806832\n",
      " indeks 12 : 4.482636484226532\n",
      " indeks 13 : 4.485301019485632\n",
      " indeks 14 : 4.529709940470639\n",
      " indeks 15 : 5.329070518200751\n",
      " indeks 16 : 0.0\n",
      " indeks 17 : 0.0\n",
      " indeks 18 : 0.0\n",
      " indeks 19 : 0.0\n"
     ]
    }
   ],
   "source": [
    "import numpy as np\n",
    "\n",
    "x = 1.5\n",
    "def funksjon(parameter):\n",
    "    return np.exp(parameter)\n",
    "\n",
    "def derivert(funksjon, h):\n",
    "    return (funksjon(x+(1/10**h))-funksjon(x))/(1/10**h)\n",
    "\n",
    "for i in range(1, 20):\n",
    "    print(f\" indeks {i} : {derivert(funksjon, i)}\")"
   ]
  }
 ],
 "metadata": {
  "kernelspec": {
   "display_name": "base",
   "language": "python",
   "name": "python3"
  },
  "language_info": {
   "codemirror_mode": {
    "name": "ipython",
    "version": 3
   },
   "file_extension": ".py",
   "mimetype": "text/x-python",
   "name": "python",
   "nbconvert_exporter": "python",
   "pygments_lexer": "ipython3",
   "version": "3.12.4"
  }
 },
 "nbformat": 4,
 "nbformat_minor": 2
}
